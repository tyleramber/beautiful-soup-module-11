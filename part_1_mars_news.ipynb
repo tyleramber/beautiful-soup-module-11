{
 "cells": [
  {
   "cell_type": "markdown",
   "metadata": {},
   "source": [
    "# Module 11 Challenge\n",
    "## Deliverable 1: Scrape Titles and Preview Text from Mars News"
   ]
  },
  {
   "cell_type": "code",
   "execution_count": 68,
   "metadata": {
    "tags": []
   },
   "outputs": [],
   "source": [
    "# Import Splinter and BeautifulSoup\n",
    "from splinter import Browser\n",
    "from bs4 import BeautifulSoup"
   ]
  },
  {
   "cell_type": "code",
   "execution_count": 70,
   "metadata": {
    "scrolled": true,
    "tags": []
   },
   "outputs": [],
   "source": [
    "browser = Browser('chrome')"
   ]
  },
  {
   "cell_type": "markdown",
   "metadata": {},
   "source": [
    "### Step 1: Visit the Website\n",
    "\n",
    "1. Use automated browsing to visit the [Mars news site](https://static.bc-edx.com/data/web/mars_news/index.html). Inspect the page to identify which elements to scrape.\n",
    "\n",
    "      > **Hint** To identify which elements to scrape, you might want to inspect the page by using Chrome DevTools."
   ]
  },
  {
   "cell_type": "code",
   "execution_count": 72,
   "metadata": {
    "tags": []
   },
   "outputs": [],
   "source": [
    "# Visit the Mars news site\n",
    "url = 'https://static.bc-edx.com/data/web/mars_news/index.html'\n",
    "browser.visit(url)"
   ]
  },
  {
   "cell_type": "markdown",
   "metadata": {},
   "source": [
    "### Step 2: Scrape the Website\n",
    "\n",
    "Create a Beautiful Soup object and use it to extract text elements from the website."
   ]
  },
  {
   "cell_type": "code",
   "execution_count": 76,
   "metadata": {
    "tags": []
   },
   "outputs": [],
   "source": [
    "# Create a Beautiful Soup object\n",
    "html = '''\n",
    "<html>\n",
    "<head>\n",
    "    <meta charset=\"utf-8\">\n",
    "    <meta name=\"viewport\" content=\"width=device-width, initial-scale=1\">\n",
    "    <link rel=\"stylesheet\" type=\"text/css\" href=\"css/bootstrap.min.5.2.2.css\">\n",
    "    <link rel=\"stylesheet\" type=\"text/css\" href=\"css/font.css\">\n",
    "    <link rel=\"stylesheet\" type=\"text/css\" href=\"css/app.css\">\n",
    "    <title>News - Mars Exploration Program</title>\n",
    "</head>\n",
    "<body>\n",
    "    <div class=\"col-md-12\">\n",
    "        <div class=\"row\">\n",
    "            <nav class=\"navbar navbar-expand-lg navbar-light fixed-top\">\n",
    "                <div class=\"container-fluid\">\n",
    "                    <a class=\"navbar-brand\" href=\"#\"> \n",
    "                        <img src=\"images/logo.png\" width=\"80\">\n",
    "                        <span class=\"logo\">MARS Planet Science</span>\n",
    "                        <span class=\"logo1\">Exploration Program</span>\n",
    "                    </a>\n",
    "                    <button class=\"navbar-toggler\" type=\"button\" data-bs-toggle=\"collapse\" data-bs-target=\"#navbarNav\" aria-controls=\"navbarNav\" aria-expanded=\"false\" aria-label=\"Toggle navigation\">\n",
    "                        <span class=\"navbar-toggler-icon\"></span>\n",
    "                    </button>\n",
    "                    <div class=\"collapse navbar-collapse justify-content-end\" id=\"navbarNav\">\n",
    "                        <ul class=\"navbar-nav\">\n",
    "                            <li class=\"nav-item\">\n",
    "                                <a class=\"nav-link active\" aria-current=\"page\" href=\"#\">The Red Planet</a>\n",
    "                            </li>\n",
    "                            <li class=\"nav-item\">\n",
    "                                <a class=\"nav-link\" href=\"#\">The Program</a>\n",
    "                            </li>\n",
    "                            <li class=\"nav-item\">\n",
    "                                <a class=\"nav-link\" href=\"#\">News &amp; Events</a>\n",
    "                            </li>\n",
    "                            <li class=\"nav-item\">\n",
    "                                <a class=\"nav-link\" href=\"#\">Multimedia</a>\n",
    "                            </li>\n",
    "                            <li class=\"nav-item\">\n",
    "                                <a class=\"nav-link\" href=\"#\">Missions</a>\n",
    "                            </li>\n",
    "                            <li class=\"nav-item\">\n",
    "                                <a class=\"nav-link\" href=\"#\">More</a>\n",
    "                            </li>\n",
    "                            <li class=\"nav-item nav_search\">\n",
    "                                <a class=\"nav-link \" href=\"#\"></a>\n",
    "                            </li>\n",
    "                        </ul>\n",
    "                    </div>\n",
    "                </div>\n",
    "            </nav>\n",
    "            <section class=\"search\">\n",
    "                <div class=\"container\">\n",
    "                    <h1>News</h1>\n",
    "                    <div class=\"col-md-12 filter\">\n",
    "                        <div class=\"row\">\n",
    "                            <div class=\"col-md-3 search_binder\">\n",
    "                                <input type=\"text\" name=\"search\" class=\"search_field\">\n",
    "                                <input type=\"text\" name=\"search\" class=\"search_submit\">\n",
    "                            </div>\n",
    "                            <div class=\"col-md-3\">\n",
    "                                <select id=\"year\" class=\"form-select \" aria-label=\"Default select example\">\n",
    "                                    <option selected=\"\">Latest</option>\n",
    "                                </select>\n",
    "                            </div>\n",
    "                            <div class=\"col-md-3\">\n",
    "                                <select id=\"cat\" class=\"form-select \" aria-label=\"Default select example\">\n",
    "                                    <option selected=\"\">All Categories</option>\n",
    "                                </select>\n",
    "                            </div>\n",
    "                            <div class=\"col-md-3\"></div>\n",
    "                        </div>\n",
    "                    </div>\n",
    "                </div>\n",
    "            </section>\n",
    "            <section class=\"image_and_description_container\">\n",
    "                <div id=\"news\" class=\"container \">\n",
    "                    <!-- News articles go here -->\n",
    "                </div>\n",
    "                <hr class=\"container\" style=\"margin: 25px auto;width: 83%;\">\n",
    "                <button id=\"more\" class=\"btn disable\">More</button>\n",
    "            </section>\n",
    "            <section class=\"last_news\">\n",
    "                <div class=\"container\">\n",
    "                    <div class=\"row\">\n",
    "                        <div class=\"col-12\">\n",
    "                            <h2>You Might Also Like</h2>\n",
    "                        </div>\n",
    "                        <div class=\"col-12\">\n",
    "                            <div id=\"carouselExampleIndicators2\" class=\"carousel slide\" data-ride=\"carousel\">\n",
    "                                <div class=\"carousel-inner\">\n",
    "                                    <div class=\"carousel-item active\">\n",
    "                                        <div class=\"row\">\n",
    "                                            <div class=\"col-md-4 mb-3\">\n",
    "                                                <div class=\"card\">\n",
    "                                                    <img class=\"img-fluid\" alt=\"100%x280\" src=\"images/9232_1-PIA01551-sojourner-and-ramp-already-in-PJ-320x240.jpeg\">\n",
    "                                                    <div class=\"card-body\">\n",
    "                                                        <p class=\"card-text\">NASA Marks 25 Years Since Pathfinder Touched Down on Mars</p>\n",
    "                                                    </div>\n",
    "                                                </div>\n",
    "                                            </div>\n",
    "                                            <div class=\"col-md-4 mb-3\">\n",
    "                                                <div class=\"card\">\n",
    "                                                    <img class=\"img-fluid\" alt=\"100%x280\" src=\"images/9172_PIA25179-320x240.jpeg\">\n",
    "                                                    <div class=\"card-body\">\n",
    "                                                        <p class=\"card-text\">NASA's Perseverance Rover Captures Video of Solar Eclipse on Mars</p>\n",
    "                                                    </div>\n",
    "                                                </div>\n",
    "                                            </div>\n",
    "                                            <div class=\"col-md-4 mb-3\">\n",
    "                                                <div class=\"card\">\n",
    "                                                    <img class=\"img-fluid\" alt=\"100%x280\" src=\"images/9167_maven-in-orbit-320x240.jpeg\">\n",
    "                                                    <div class=\"card-body\">\n",
    "                                                        <p class=\"card-text\">NASA, UAE Mars Missions Agree to Share Science Data</p>\n",
    "                                                    </div>\n",
    "                                                </div>\n",
    "                                            </div>\n",
    "                                        </div>\n",
    "                                    </div>\n",
    "                                </div>\n",
    "                            </div>\n",
    "                        </div>\n",
    "                    </div>\n",
    "                </div>\n",
    "            </section>\n",
    "            <section class=\"footer\">\n",
    "                <div class=\"container\">\n",
    "                    <div class=\"col-md-12\">\n",
    "                        <div class=\"row\">\n",
    "                            <div class=\"col-md-3\">\n",
    "                                <h5>The Red Planet</h5>\n",
    "                                <ul>\n",
    "                                    <li>Dashboard</li>\n",
    "                                    <li>Science Goals</li>\n",
    "                                    <li>The Planet</li>\n",
    "                                </ul>\n",
    "                            </div>\n",
    "                            <div class=\"col-md-3\">\n",
    "                                <h5>The Program</h5>\n",
    "                                <ul>\n",
    "                                    <li>Mission Statement</li>\n",
    "                                    <li>About the Program</li>\n",
    "                                    <li>Organization Why Mars?</li>\n",
    "                                </ul>\n",
    "                            </div>\n",
    "                            <div class=\"col-md-3\">\n",
    "                                <h5>Multimedia</h5>\n",
    "                                <ul>\n",
    "                                    <li>Images</li>\n",
    "                                    <li>Videos</li>\n",
    "                                    <li>More Resources</li>\n",
    "                                </ul>\n",
    "                            </div>\n",
    "                            <div class=\"col-md-3\">\n",
    "                                <h5>Missions</h5>\n",
    "                                <ul>\n",
    "                                    <li>Past</li>\n",
    "                                    <li>Present</li>\n",
    "                                    <li>Future</li>\n",
    "                                </ul>\n",
    "                            </div>\n",
    "                        </div>\n",
    "                    </div>\n",
    "                </div>\n",
    "            </section>\n",
    "            <footer class=\"footer\">\n",
    "                <p id=\"datasource\">Images and news content extracted from NASA's <a href=\"https://mars.nasa.gov/news/\">Mars News</a> website on November 9, 2022.<br>\n",
    "                Images used in accordance with the <a href=\"https://www.jpl.nasa.gov/jpl-image-use-policy\">JPL Image Use Policy</a>.</p>\n",
    "                <hr>\n",
    "                <p id=\"edx\">This site is operated by edX Boot Camps LLC for educational purposes only.  <br>\n",
    "                This is not a website endorsed by NASA. This website is intended only for internal academic purposes.</p>\n",
    "            </footer>\n",
    "            <script src=\"js/bootstrap.bundle.min.5.2.2.js\"></script>\n",
    "        </div>\n",
    "    </div>\n",
    "</body>\n",
    "</html>\n",
    "'''\n",
    "\n",
    "soup = BeautifulSoup(html, 'html.parser')"
   ]
  },
  {
   "cell_type": "code",
   "execution_count": 78,
   "metadata": {
    "tags": []
   },
   "outputs": [
    {
     "data": {
      "text/plain": [
       "\"News - Mars Exploration Program MARS Planet Science Exploration Program The Red Planet The Program News & Events Multimedia Missions More News Latest All Categories More You Might Also Like NASA Marks 25 Years Since Pathfinder Touched Down on Mars NASA's Perseverance Rover Captures Video of Solar Eclipse on Mars NASA, UAE Mars Missions Agree to Share Science Data The Red Planet Dashboard Science Goals The Planet The Program Mission Statement About the Program Organization Why Mars? Multimedia Images Videos More Resources Missions Past Present Future Images and news content extracted from NASA's Mars News website on November 9, 2022. Images used in accordance with the JPL Image Use Policy . This site is operated by edX Boot Camps LLC for educational purposes only. This is not a website endorsed by NASA. This website is intended only for internal academic purposes.\""
      ]
     },
     "execution_count": 78,
     "metadata": {},
     "output_type": "execute_result"
    }
   ],
   "source": [
    "# Extract all the text elements\n",
    "text = soup.get_text(separator=' ', strip=True)\n",
    "text"
   ]
  },
  {
   "cell_type": "markdown",
   "metadata": {},
   "source": [
    "### Step 3: Store the Results\n",
    "\n",
    "Extract the titles and preview text of the news articles that you scraped. Store the scraping results in Python data structures as follows:\n",
    "\n",
    "* Store each title-and-preview pair in a Python dictionary. And, give each dictionary two keys: `title` and `preview`. An example is the following:\n",
    "\n",
    "  ```python\n",
    "  {'title': \"NASA's MAVEN Observes Martian Light Show Caused by Major Solar Storm\", \n",
    "   'preview': \"For the first time in its eight years orbiting Mars, NASA’s MAVEN mission witnessed two different types of ultraviolet aurorae simultaneously, the result of solar storms that began on Aug. 27.\"\n",
    "  }\n",
    "  ```\n",
    "\n",
    "* Store all the dictionaries in a Python list.\n",
    "\n",
    "* Print the list in your notebook."
   ]
  },
  {
   "cell_type": "code",
   "execution_count": 87,
   "metadata": {
    "tags": []
   },
   "outputs": [],
   "source": [
    "# Create an empty list to store the dictionaries\n",
    "news_articles = []"
   ]
  },
  {
   "cell_type": "code",
   "execution_count": 89,
   "metadata": {
    "tags": []
   },
   "outputs": [],
   "source": [
    "# Loop through the text elements\n",
    "for article in soup.find_all('div', class_='list_text'):\n",
    "    # Extract the title\n",
    "    title = article.find('div', class_='content_title').get_text()\n",
    "    \n",
    "    # Extract the preview text\n",
    "    preview = article.find('div', class_='article_teaser_body').get_text()\n",
    "    \n",
    "    # Create a dictionary for the current article\n",
    "    article_dict = {\n",
    "        'title': title,\n",
    "        'preview': preview\n",
    "    }\n",
    "    \n",
    "    # Add the dictionary to the list\n",
    "    news_articles.append(article_dict)"
   ]
  },
  {
   "cell_type": "code",
   "execution_count": 91,
   "metadata": {
    "tags": []
   },
   "outputs": [
    {
     "data": {
      "text/plain": [
       "[]"
      ]
     },
     "execution_count": 91,
     "metadata": {},
     "output_type": "execute_result"
    }
   ],
   "source": [
    "# Print the list to confirm success\n",
    "news_articles"
   ]
  },
  {
   "cell_type": "code",
   "execution_count": 66,
   "metadata": {
    "tags": []
   },
   "outputs": [],
   "source": [
    "browser.quit()"
   ]
  },
  {
   "cell_type": "code",
   "execution_count": null,
   "metadata": {},
   "outputs": [],
   "source": []
  }
 ],
 "metadata": {
  "kernelspec": {
   "display_name": "Python 3 (ipykernel)",
   "language": "python",
   "name": "python3"
  },
  "language_info": {
   "codemirror_mode": {
    "name": "ipython",
    "version": 3
   },
   "file_extension": ".py",
   "mimetype": "text/x-python",
   "name": "python",
   "nbconvert_exporter": "python",
   "pygments_lexer": "ipython3",
   "version": "3.11.7"
  },
  "vscode": {
   "interpreter": {
    "hash": "31f2aee4e71d21fbe5cf8b01ff0e069b9275f58929596ceb00d14d90e3e16cd6"
   }
  }
 },
 "nbformat": 4,
 "nbformat_minor": 4
}
